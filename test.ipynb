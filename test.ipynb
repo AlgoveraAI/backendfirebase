{
 "cells": [
  {
   "cell_type": "code",
   "execution_count": 1,
   "metadata": {},
   "outputs": [],
   "source": [
    "import uuid\n",
    "from backendfirebase.firebase import *"
   ]
  },
  {
   "cell_type": "code",
   "execution_count": 2,
   "metadata": {},
   "outputs": [],
   "source": [
    "bfb = BackendFirebase()"
   ]
  },
  {
   "cell_type": "code",
   "execution_count": 3,
   "metadata": {},
   "outputs": [
    {
     "data": {
      "text/plain": [
       "(200, 580)"
      ]
     },
     "execution_count": 3,
     "metadata": {},
     "output_type": "execute_result"
    }
   ],
   "source": [
    "bfb.verify_user_credit('test')"
   ]
  },
  {
   "cell_type": "code",
   "execution_count": 4,
   "metadata": {},
   "outputs": [
    {
     "data": {
      "text/plain": [
       "(403, 'Insufficient credits')"
      ]
     },
     "execution_count": 4,
     "metadata": {},
     "output_type": "execute_result"
    }
   ],
   "source": [
    "bfb.verify_user_credit('userwithnocredit')"
   ]
  },
  {
   "cell_type": "code",
   "execution_count": 5,
   "metadata": {},
   "outputs": [
    {
     "data": {
      "text/plain": [
       "(403, 'Unknown user')"
      ]
     },
     "execution_count": 5,
     "metadata": {},
     "output_type": "execute_result"
    }
   ],
   "source": [
    "bfb.verify_user_credit('userwithnocreditxxx')"
   ]
  },
  {
   "cell_type": "code",
   "execution_count": 6,
   "metadata": {},
   "outputs": [
    {
     "data": {
      "text/plain": [
       "(200, None)"
      ]
     },
     "execution_count": 6,
     "metadata": {},
     "output_type": "execute_result"
    }
   ],
   "source": [
    "bfb.remove_credit(uid='test')"
   ]
  },
  {
   "cell_type": "code",
   "execution_count": 7,
   "metadata": {},
   "outputs": [
    {
     "data": {
      "text/plain": [
       "{'seed': 321651651,\n",
       " 'base_model': 'stable diffusion v1.5',\n",
       " 'uid': 'test',\n",
       " 'scheduler': 'k_dpmpp_2m',\n",
       " 'width': 512,\n",
       " 'height': 512,\n",
       " 'job_status': 'done',\n",
       " 'inf_steps': 30,\n",
       " 'guidance_scale': 7.0,\n",
       " 'prompt': 'a beautiful dusky evening'}"
      ]
     },
     "execution_count": 7,
     "metadata": {},
     "output_type": "execute_result"
    }
   ],
   "source": [
    "bfb.db_jobs.get()[0].to_dict()"
   ]
  },
  {
   "cell_type": "code",
   "execution_count": 24,
   "metadata": {},
   "outputs": [
    {
     "data": {
      "text/plain": [
       "'98efc769e17e437d8418d9cf247da9c0'"
      ]
     },
     "execution_count": 24,
     "metadata": {},
     "output_type": "execute_result"
    }
   ],
   "source": [
    "ju = uuid.uuid4().hex\n",
    "params = {'prompt': 'test stuff',\n",
    "            'uid': '0x275e16deffbf14283fa8dc0b3fd268734811764ca8b090debf3c722d6284b1a5',\n",
    "            'width': 896,\n",
    "            'base_model': 'stable-diffusion-v1-5',\n",
    "            'guidance_scale': 7.5,\n",
    "            'neg_prompt': '',\n",
    "            'inf_steps': 13,\n",
    "            'height': 320,\n",
    "            'job_status': 'done',\n",
    "            'job_created': '1669737597.608365',\n",
    "            'job_done': '1669737670.008159',\n",
    "            'job_type': 'txt2img',\n",
    "            'job_in_process': '1669737666.694235',\n",
    "            'seed': 69,\n",
    "            'job_uuid':ju}\n",
    "ju"
   ]
  },
  {
   "cell_type": "code",
   "execution_count": 25,
   "metadata": {},
   "outputs": [
    {
     "data": {
      "text/plain": [
       "{'prompt': 'test stuff',\n",
       " 'uid': '0x275e16deffbf14283fa8dc0b3fd268734811764ca8b090debf3c722d6284b1a5',\n",
       " 'width': 896,\n",
       " 'base_model': 'stable-diffusion-v1-5',\n",
       " 'guidance_scale': 7.5,\n",
       " 'neg_prompt': '',\n",
       " 'inf_steps': 13,\n",
       " 'job_created': '1669737597.608365',\n",
       " 'job_status': 'done',\n",
       " 'height': 320,\n",
       " 'job_done': '1669737670.008159',\n",
       " 'job_type': 'txt2img',\n",
       " 'job_in_process': '1669737666.694235',\n",
       " 'seed': 69}"
      ]
     },
     "execution_count": 25,
     "metadata": {},
     "output_type": "execute_result"
    }
   ],
   "source": [
    "bfb.set_job(params=params)"
   ]
  },
  {
   "cell_type": "code",
   "execution_count": 3,
   "metadata": {},
   "outputs": [],
   "source": [
    "b = bfb.bucket.download(owner_uuid='test', job_uuid='059870a9f363430caadccc0d6ffd3b71', topil=True)"
   ]
  },
  {
   "attachments": {},
   "cell_type": "markdown",
   "metadata": {},
   "source": [
    "# Test Base Models"
   ]
  },
  {
   "cell_type": "code",
   "execution_count": 1,
   "metadata": {},
   "outputs": [],
   "source": [
    "import uuid\n",
    "from backendfirebase.firebase import *\n",
    "\n",
    "bfb = BackendFirebase()"
   ]
  },
  {
   "cell_type": "code",
   "execution_count": 2,
   "metadata": {},
   "outputs": [],
   "source": [
    "res = bfb.get_bm()"
   ]
  },
  {
   "cell_type": "code",
   "execution_count": null,
   "metadata": {},
   "outputs": [],
   "source": []
  }
 ],
 "metadata": {
  "kernelspec": {
   "display_name": "Python 3.10.8 ('backendfirebase')",
   "language": "python",
   "name": "python3"
  },
  "language_info": {
   "codemirror_mode": {
    "name": "ipython",
    "version": 3
   },
   "file_extension": ".py",
   "mimetype": "text/x-python",
   "name": "python",
   "nbconvert_exporter": "python",
   "pygments_lexer": "ipython3",
   "version": "3.10.8"
  },
  "orig_nbformat": 4,
  "vscode": {
   "interpreter": {
    "hash": "20d4ba767e55718dbdf95b38a75fdbd57efc3d71fe8387c439263359af246da0"
   }
  }
 },
 "nbformat": 4,
 "nbformat_minor": 2
}
